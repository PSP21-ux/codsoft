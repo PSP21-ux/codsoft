{
 "cells": [
  {
   "cell_type": "code",
   "execution_count": null,
   "id": "97c1b7ca-589d-4b20-9a3a-2d68b2391dbb",
   "metadata": {},
   "outputs": [],
   "source": [
    "import pandas as pd\n",
    "import seaborn as sns\n",
    "import matplotlib.pyplot as plt\n",
    "from sklearn.model_selection import train_test_split\n",
    "from sklearn.linear_model import LinearRegression\n",
    "import warnings\n",
    "warnings.filterwarnings('ignore')"
   ]
  },
  {
   "cell_type": "code",
   "execution_count": null,
   "id": "dcf175a0-4a56-4d4e-99f1-339ec2d8dbf3",
   "metadata": {},
   "outputs": [],
   "source": [
    "data = pd.read_csv('data/IMDb Movies India.csv', encoding='latin-1')"
   ]
  },
  {
   "cell_type": "code",
   "execution_count": null,
   "id": "cdad7338-0778-4646-8d6a-19d93eb47995",
   "metadata": {},
   "outputs": [],
   "source": [
    "data.head()"
   ]
  },
  {
   "cell_type": "code",
   "execution_count": null,
   "id": "bd68d0c4-a407-473a-816d-5ee34388076a",
   "metadata": {},
   "outputs": [],
   "source": [
    "data.info()"
   ]
  },
  {
   "cell_type": "code",
   "execution_count": null,
   "id": "83c84a96-461a-484a-a087-3c70c31a58ce",
   "metadata": {},
   "outputs": [],
   "source": [
    "data.describe()"
   ]
  },
  {
   "cell_type": "code",
   "execution_count": null,
   "id": "427f674f-ba30-43f4-9bb1-113c2079c500",
   "metadata": {},
   "outputs": [],
   "source": [
    "data.isna().sum()"
   ]
  },
  {
   "cell_type": "code",
   "execution_count": null,
   "id": "5c64101b-8f6f-4cb2-bc03-6d34fa289c2c",
   "metadata": {},
   "outputs": [],
   "source": [
    "data.isnull().sum()"
   ]
  },
  {
   "cell_type": "code",
   "execution_count": null,
   "id": "da32dd2a-b713-4dc9-92b5-52a6e4d29a4b",
   "metadata": {},
   "outputs": [],
   "source": [
    "df = data\n",
    "df.dropna(inplace=True)\n",
    "df.isna().sum()"
   ]
  },
  {
   "cell_type": "code",
   "execution_count": null,
   "id": "035a8f58-c732-4afe-a385-0ac48c81adad",
   "metadata": {},
   "outputs": [],
   "source": [
    "df.isnull().sum()"
   ]
  },
  {
   "cell_type": "code",
   "execution_count": null,
   "id": "8f0079ab-9ecc-484a-b72f-a769340d7e82",
   "metadata": {},
   "outputs": [],
   "source": [
    "df.info()"
   ]
  },
  {
   "cell_type": "code",
   "execution_count": null,
   "id": "be40415b-312a-4c31-b52f-47fd9ddd6b06",
   "metadata": {},
   "outputs": [],
   "source": [
    "df.describe()"
   ]
  },
  {
   "cell_type": "code",
   "execution_count": null,
   "id": "0c020458-fa2d-4767-a49f-213940a99a35",
   "metadata": {},
   "outputs": [],
   "source": [
    "sns.barplot(x='Genre', y='Rating', data=df)\n",
    "plt.show()"
   ]
  },
  {
   "cell_type": "code",
   "execution_count": null,
   "id": "2949167d-a8fc-4a18-acd4-8a8afd6c22cc",
   "metadata": {},
   "outputs": [],
   "source": [
    "sns.barplot(x='Director', y='Rating', data=df)\n",
    "plt.show()"
   ]
  },
  {
   "cell_type": "code",
   "execution_count": null,
   "id": "55b0d591-a048-4055-b3ac-9d9e367d02f1",
   "metadata": {},
   "outputs": [],
   "source": [
    "sns.barplot(x='Actor 1', y='Rating', data=df)\n",
    "plt.show()\n"
   ]
  },
  {
   "cell_type": "code",
   "execution_count": null,
   "id": "c71195f7-7b12-487d-8ec5-0c511e4e5342",
   "metadata": {},
   "outputs": [],
   "source": [
    "sns.barplot(x='Actor 2', y='Rating', data=df)\n",
    "plt.show()"
   ]
  },
  {
   "cell_type": "code",
   "execution_count": null,
   "id": "c1253ac5-bc85-4fd7-87c7-5cb1d1ba671c",
   "metadata": {},
   "outputs": [],
   "source": [
    "sns.barplot(x='Actor 3', y='Rating', data=df)\n",
    "plt.show()"
   ]
  },
  {
   "cell_type": "code",
   "execution_count": null,
   "id": "6d430920-988b-4abe-aa29-d584f2ca98b9",
   "metadata": {},
   "outputs": [],
   "source": [
    "X = df.drop(columns=['Rating'])\n",
    "y = df['Rating']"
   ]
  },
  {
   "cell_type": "code",
   "execution_count": null,
   "id": "ae33e87d-d607-4018-bca7-e2a0169632a6",
   "metadata": {},
   "outputs": [],
   "source": [
    "X"
   ]
  },
  {
   "cell_type": "code",
   "execution_count": null,
   "id": "0fc023db-006f-4a02-813b-88b425e091f7",
   "metadata": {},
   "outputs": [],
   "source": [
    "X_train, X_test, y_train, y_test = train_test_split(X, y, test_size=0.2, random_state=42)"
   ]
  }
 ],
 "metadata": {
  "kernelspec": {
   "display_name": "Python 3 (ipykernel)",
   "language": "python",
   "name": "python3"
  },
  "language_info": {
   "codemirror_mode": {
    "name": "ipython",
    "version": 3
   },
   "file_extension": ".py",
   "mimetype": "text/x-python",
   "name": "python",
   "nbconvert_exporter": "python",
   "pygments_lexer": "ipython3",
   "version": "3.11.7"
  }
 },
 "nbformat": 4,
 "nbformat_minor": 5
}
